{
  "nbformat": 4,
  "nbformat_minor": 0,
  "metadata": {
    "colab": {
      "provenance": []
    },
    "kernelspec": {
      "name": "python3",
      "display_name": "Python 3"
    },
    "language_info": {
      "name": "python"
    }
  },
  "cells": [
    {
      "cell_type": "code",
      "execution_count": 40,
      "metadata": {
        "id": "mZcpuf88jpYD"
      },
      "outputs": [],
      "source": [
        "import tensorflow as tf\n",
        "import tensorflow.keras.backend as T\n",
        "from tensorflow.keras.layers import Layer\n",
        "\n",
        "class DCCA(Layer):\n",
        "    '''CCA layer is used compute the CCA objective\n",
        "\n",
        "    # Input shape\n",
        "        Arbitrary. Use the keyword argument `input_shape`\n",
        "        (tuple of integers, does not include the samples axis)\n",
        "        when using this layer as the first layer in a model.\n",
        "\n",
        "    # Output shape\n",
        "        Same shape as the input.\n",
        "\n",
        "    # Arguments\n",
        "        output_dim: output dimension, default 1, i.e., correlation coefficient\n",
        "        use_all_singular_value: if use the top-k singular values\n",
        "        cca_space_dim: the number of singular values, i.e., k\n",
        "\n",
        "    '''\n",
        "\n",
        "    def __init__(self, output_dim=1, use_all_singular_values=True, cca_space_dim=10, **kwargs):\n",
        "        self.output_dim = output_dim\n",
        "        self.cca_space_dim = cca_space_dim\n",
        "        self.use_all_singular_values = use_all_singular_values\n",
        "        super(DCCA, self).__init__(**kwargs)\n",
        "\n",
        "    def build(self, input_shape):\n",
        "        # Create a trainable weight variable for this layer.\n",
        "        super(DCCA, self).build(input_shape)\n",
        "\n",
        "    def call(self, x):\n",
        "        r1 = tf.constant([1e-4])\n",
        "        r2 = tf.constant([1e-4])\n",
        "        eps = tf.constant([1e-12])\n",
        "        o1 = o2 = tf.shape(x)[1] // 2\n",
        "\n",
        "        H1 = T.transpose(x[:, 0:o1])\n",
        "        H2 = T.transpose(x[:, o1:o1 + o2])\n",
        "\n",
        "        one = tf.constant([1.0])\n",
        "        m = tf.shape(H1)[1]\n",
        "        m_float = tf.cast(m, 'float')\n",
        "\n",
        "        # minus the mean value\n",
        "        partition = tf.divide(one, m_float)\n",
        "        H1bar = H1 - partition * tf.matmul(H1, tf.ones([m, m]))\n",
        "        H2bar = H2 - partition * tf.matmul(H2, tf.ones([m, m]))\n",
        "\n",
        "        # calculate the auto-covariance and cross-covariance\n",
        "        partition2 = tf.divide(one, (m_float - 1))\n",
        "        SigmaHat12 = partition2 * tf.matmul(H1bar, tf.transpose(H2bar))\n",
        "        SigmaHat11 = partition2 * tf.matmul(H1bar, tf.transpose(H1bar)) + r1 * tf.eye(o1)\n",
        "        SigmaHat22 = partition2 * tf.matmul(H2bar, tf.transpose(H2bar)) + r2 * tf.eye(o2)\n",
        "\n",
        "        # calculate the root inverse of covariance matrices by using eigen decomposition\n",
        "        D1, V1 = tf.linalg.eigh(SigmaHat11)\n",
        "        D2, V2 = tf.linalg.eigh(SigmaHat22)\n",
        "\n",
        "        # for stability\n",
        "        D1_indices = tf.where(D1 > eps)\n",
        "        D1_indices = tf.squeeze(D1_indices)\n",
        "        V1 = tf.gather(V1, D1_indices)\n",
        "        D1 = tf.gather(D1, D1_indices)\n",
        "\n",
        "        D2_indices = tf.where(D2 > eps)\n",
        "        D2_indices = tf.squeeze(D2_indices)\n",
        "        V2 = tf.gather(V2, D2_indices)\n",
        "        D2 = tf.gather(D2, D2_indices)\n",
        "\n",
        "        pow_value = tf.constant([-0.5])\n",
        "        SigmaHat11RootInv = tf.matmul(tf.matmul(V1, tf.linalg.diag(tf.pow(D1, pow_value))), tf.transpose(V1))\n",
        "        SigmaHat22RootInv = tf.matmul(tf.matmul(V2, tf.linalg.diag(tf.pow(D2, pow_value))), tf.transpose(V2))\n",
        "\n",
        "        Tval = tf.matmul(tf.matmul(SigmaHat11RootInv, SigmaHat12), SigmaHat22RootInv)\n",
        "\n",
        "        if self.use_all_singular_values:\n",
        "            # all singular values are used to calculate the correlation\n",
        "            corr = tf.linalg.trace(T.sqrt(tf.matmul(tf.transpose(Tval), Tval)))\n",
        "        else:\n",
        "            # just the top outdim_size singular values are used\n",
        "            TT = tf.matmul(tf.transpose(Tval), Tval)\n",
        "            U, V = tf.raw_ops.SelfAdjointEigV2(input=TT)\n",
        "            U_sort, _ = tf.nn.top_k(U, self.cca_space_dim)\n",
        "            corr = T.sum(T.sqrt(U_sort))\n",
        "\n",
        "        corr = tf.fill([tf.shape(x)[0], self.output_dim], corr)\n",
        "\n",
        "        return -corr\n",
        "\n",
        "    def compute_output_shape(self, input_shape):\n",
        "        return (input_shape[0], self.output_dim)\n",
        "\n",
        "    def get_config(self):\n",
        "        config = {\n",
        "            'output_dim': self.output_dim,\n",
        "            'cca_dim': self.cca_dim,\n",
        "            'use_all_singular_values': self.use_all_singular_values,\n",
        "        }\n",
        "        base_config = super(CCA, self).get_config()\n",
        "        return dict(list(base_config.items()) + list(config.items()))"
      ]
    },
    {
      "cell_type": "code",
      "source": [
        "import numpy as np\n",
        "\n",
        "import tensorflow as tf\n",
        "from tensorflow import keras\n",
        "from tensorflow.keras import Model\n",
        "from tensorflow.keras.layers import Input, Dense, concatenate, Dropout\n",
        "import tensorflow.keras.backend as K\n",
        "\n",
        "\n",
        "def constant_loss(y_true, y_pred):\n",
        "    return y_pred\n",
        "\n",
        "def mean_pred(y_true, y_pred):\n",
        "    return K.mean(y_pred)\n",
        "\n",
        "import pandas as pd\n",
        "df = pd.read_csv('https://raw.githubusercontent.com/mwaskom/seaborn-data/master/iris.csv')\n",
        "X = df[['sepal_length', 'sepal_length', 'sepal_width']][:50]\n",
        "Y = df[['petal_length', 'petal_length', 'petal_width']][:50]\n",
        "\n",
        "# size of the input for view 1 and view 2\n",
        "input_shape1 = 3\n",
        "input_shape2 = 3\n",
        "\n",
        "# network settings\n",
        "epoch_num = 10\n",
        "batch_size = 100\n",
        "\n",
        "#load data\n",
        "\n",
        "train_set_x1 = df[['sepal_length', 'sepal_length', 'sepal_width']][:100]\n",
        "valid_set_x1 = df[['sepal_length', 'sepal_length', 'sepal_width']][:50]\n",
        "\n",
        "train_set_x2 = df[['petal_length', 'petal_length', 'petal_width']][:100]\n",
        "valid_set_x2 = df[['petal_length', 'petal_length', 'petal_width']][:50]\n",
        "\n",
        "input1 = Input(shape=(input_shape1, ), name='input1')\n",
        "input2 = Input(shape=(input_shape1, ), name='input2')\n",
        "\n",
        "expert_index = 0\n",
        "activation_model = 'sigmoid'\n",
        "dense1_1 = Dense(128, activation=activation_model, name='view_1_1')(input1)\n",
        "dense1_2 = Dense(128, activation=activation_model, name='view_1_2')(dense1_1)\n",
        "dense1_3 = Dense(128, activation=activation_model,  name='view_1_3')(dense1_2)\n",
        "output1 = Dense(2, activation='linear', name='view_1_4')(dense1_3)\n",
        "\n",
        "dense2_1 = Dense(128, activation=activation_model,  name='view_2_1')(input2)\n",
        "dense2_2 = Dense(128, activation=activation_model,  name='view_2_2')(dense2_1)\n",
        "dense2_3 = Dense(128, activation=activation_model, name='view_2_3')(dense2_2)\n",
        "output2 = Dense(2, activation='linear', name='view_2_4')(dense2_3)\n",
        "\n",
        "shared_layer = concatenate([output1, output2], name='shared_layer')\n",
        "\n",
        "cca_layer = CCA(1, name='cca_layer')(shared_layer)\n",
        "\n",
        "model = Model(inputs=[input1, input2], outputs=cca_layer)\n",
        "model.compile(optimizer='rmsprop', loss=constant_loss, metrics=[mean_pred])\n",
        "model.fit([train_set_x1, train_set_x2], np.zeros(len(train_set_x1)),\n",
        "          batch_size=batch_size, epochs=epoch_num, shuffle=True, verbose=1,\n",
        "          validation_data=([valid_set_x1, valid_set_x2], np.zeros(len(valid_set_x1))))\n"
      ],
      "metadata": {
        "colab": {
          "base_uri": "https://localhost:8080/"
        },
        "id": "jvcmf9znjsj6",
        "outputId": "0c4e7fe7-3bae-479d-aefc-bde095452721"
      },
      "execution_count": 84,
      "outputs": [
        {
          "output_type": "stream",
          "name": "stdout",
          "text": [
            "Epoch 1/10\n",
            "1/1 [==============================] - 3s 3s/step - loss: -0.0915 - mean_pred: -0.0915 - val_loss: -0.0549 - val_mean_pred: -0.0549\n",
            "Epoch 2/10\n",
            "1/1 [==============================] - 0s 73ms/step - loss: -0.9318 - mean_pred: -0.9318 - val_loss: -0.0943 - val_mean_pred: -0.0943\n",
            "Epoch 3/10\n",
            "1/1 [==============================] - 0s 67ms/step - loss: -1.0361 - mean_pred: -1.0361 - val_loss: -0.1126 - val_mean_pred: -0.1126\n",
            "Epoch 4/10\n",
            "1/1 [==============================] - 0s 77ms/step - loss: -1.1592 - mean_pred: -1.1592 - val_loss: -0.1244 - val_mean_pred: -0.1244\n",
            "Epoch 5/10\n",
            "1/1 [==============================] - 0s 79ms/step - loss: -1.1980 - mean_pred: -1.1980 - val_loss: -0.1292 - val_mean_pred: -0.1292\n",
            "Epoch 6/10\n",
            "1/1 [==============================] - 0s 65ms/step - loss: -1.2184 - mean_pred: -1.2184 - val_loss: -0.1342 - val_mean_pred: -0.1342\n",
            "Epoch 7/10\n",
            "1/1 [==============================] - 0s 60ms/step - loss: -1.2313 - mean_pred: -1.2313 - val_loss: -0.1383 - val_mean_pred: -0.1383\n",
            "Epoch 8/10\n",
            "1/1 [==============================] - 0s 75ms/step - loss: -1.2409 - mean_pred: -1.2409 - val_loss: -0.1421 - val_mean_pred: -0.1421\n",
            "Epoch 9/10\n",
            "1/1 [==============================] - 0s 63ms/step - loss: -1.2485 - mean_pred: -1.2485 - val_loss: -0.1457 - val_mean_pred: -0.1457\n",
            "Epoch 10/10\n",
            "1/1 [==============================] - 0s 73ms/step - loss: -1.2547 - mean_pred: -1.2547 - val_loss: -0.1492 - val_mean_pred: -0.1492\n"
          ]
        },
        {
          "output_type": "execute_result",
          "data": {
            "text/plain": [
              "<keras.callbacks.History at 0x7f596a82b2b0>"
            ]
          },
          "metadata": {},
          "execution_count": 84
        }
      ]
    },
    {
      "cell_type": "code",
      "source": [
        "train_set_x1.shape"
      ],
      "metadata": {
        "colab": {
          "base_uri": "https://localhost:8080/"
        },
        "id": "RFvNde9Yp_ur",
        "outputId": "a78e2db7-7636-42e3-e2c4-c8fdbbc14b82"
      },
      "execution_count": 85,
      "outputs": [
        {
          "output_type": "execute_result",
          "data": {
            "text/plain": [
              "(100, 3)"
            ]
          },
          "metadata": {},
          "execution_count": 85
        }
      ]
    },
    {
      "cell_type": "code",
      "source": [
        "# evaluation for view_1\n",
        "new_data    = []\n",
        "expert_data = []\n",
        "expert_result = []\n",
        "current_dcca = Model(model.input, model.get_layer(name='shared_layer').output)\n",
        "\n",
        "\n",
        "pred_out = current_dcca.predict([X, Y])\n"
      ],
      "metadata": {
        "colab": {
          "base_uri": "https://localhost:8080/"
        },
        "id": "kfU-wj-ij04I",
        "outputId": "c76405bb-c55b-4237-f90b-1c8a920ea731"
      },
      "execution_count": 88,
      "outputs": [
        {
          "output_type": "stream",
          "name": "stdout",
          "text": [
            "2/2 [==============================] - 0s 7ms/step\n"
          ]
        }
      ]
    },
    {
      "cell_type": "code",
      "source": [
        "model.get_layer(name='shared_layer').output"
      ],
      "metadata": {
        "colab": {
          "base_uri": "https://localhost:8080/"
        },
        "id": "OM0G89JTk8uL",
        "outputId": "51ed0c3e-eed2-47b2-d48b-652866e4aea0"
      },
      "execution_count": 79,
      "outputs": [
        {
          "output_type": "execute_result",
          "data": {
            "text/plain": [
              "<KerasTensor: shape=(None, 4) dtype=float32 (created by layer 'shared_layer')>"
            ]
          },
          "metadata": {},
          "execution_count": 79
        }
      ]
    },
    {
      "cell_type": "code",
      "source": [
        "pred_out.shape"
      ],
      "metadata": {
        "colab": {
          "base_uri": "https://localhost:8080/"
        },
        "id": "godea1N6o3Fp",
        "outputId": "dbdaa947-5276-4f84-a442-b3bca177ce31"
      },
      "execution_count": 80,
      "outputs": [
        {
          "output_type": "execute_result",
          "data": {
            "text/plain": [
              "(150, 4)"
            ]
          },
          "metadata": {},
          "execution_count": 80
        }
      ]
    },
    {
      "cell_type": "code",
      "source": [
        "print(np.corrcoef(pred_out[:,0], pred_out[:,2]))"
      ],
      "metadata": {
        "colab": {
          "base_uri": "https://localhost:8080/"
        },
        "id": "M5RmKMmUk5Sj",
        "outputId": "deab91d3-12db-4825-eaa4-825a0c0976d0"
      },
      "execution_count": 105,
      "outputs": [
        {
          "output_type": "stream",
          "name": "stdout",
          "text": [
            "[[1.        0.1958496]\n",
            " [0.1958496 1.       ]]\n"
          ]
        }
      ]
    },
    {
      "cell_type": "code",
      "source": [
        "print(np.corrcoef(pred_out[:,1], pred_out[:,3]))"
      ],
      "metadata": {
        "colab": {
          "base_uri": "https://localhost:8080/"
        },
        "id": "8WBIe6VCl8sv",
        "outputId": "1eab94ce-ad14-4189-c139-31fce1e57ce6"
      },
      "execution_count": 106,
      "outputs": [
        {
          "output_type": "stream",
          "name": "stdout",
          "text": [
            "[[1.         0.15546917]\n",
            " [0.15546917 1.        ]]\n"
          ]
        }
      ]
    },
    {
      "cell_type": "code",
      "source": [
        "ca = CCA(n_components=2)\n",
        "ca.fit(train_set_x1, train_set_x2)\n",
        "X_c, Y_c = ca.transform(X, Y)\n",
        ""
      ],
      "metadata": {
        "id": "MVMWe67Wmagc"
      },
      "execution_count": 93,
      "outputs": []
    },
    {
      "cell_type": "code",
      "source": [
        "print(np.corrcoef(X_c[:,0], Y_c[:,0]))"
      ],
      "metadata": {
        "colab": {
          "base_uri": "https://localhost:8080/"
        },
        "id": "q-GZmR4_mebY",
        "outputId": "bee9c456-00dc-437a-b963-41881bfd68c3"
      },
      "execution_count": 102,
      "outputs": [
        {
          "output_type": "stream",
          "name": "stdout",
          "text": [
            "[[1.         0.11540336]\n",
            " [0.11540336 1.        ]]\n"
          ]
        }
      ]
    },
    {
      "cell_type": "code",
      "source": [
        "print(np.corrcoef(X_c[:,1], Y_c[:,1]))"
      ],
      "metadata": {
        "colab": {
          "base_uri": "https://localhost:8080/"
        },
        "id": "OFDq1fwjsDaX",
        "outputId": "490466ad-6aaa-40f7-a37a-4c4a3edcde84"
      },
      "execution_count": 104,
      "outputs": [
        {
          "output_type": "stream",
          "name": "stdout",
          "text": [
            "[[1.         0.12859254]\n",
            " [0.12859254 1.        ]]\n"
          ]
        }
      ]
    },
    {
      "cell_type": "code",
      "source": [
        "print(np.corrcoef(X_c[:,1], Y_c[:,1]))"
      ],
      "metadata": {
        "colab": {
          "base_uri": "https://localhost:8080/"
        },
        "id": "j4GkIZOomiqy",
        "outputId": "fea07520-4749-4e93-c842-20c62452e7c9"
      },
      "execution_count": 96,
      "outputs": [
        {
          "output_type": "stream",
          "name": "stdout",
          "text": [
            "[[1.         0.12859254]\n",
            " [0.12859254 1.        ]]\n"
          ]
        }
      ]
    },
    {
      "cell_type": "code",
      "source": [],
      "metadata": {
        "id": "8Hj6RWhjqe0z"
      },
      "execution_count": null,
      "outputs": []
    }
  ]
}